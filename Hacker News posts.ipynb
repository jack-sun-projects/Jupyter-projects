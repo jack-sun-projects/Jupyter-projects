{
 "cells": [
  {
   "cell_type": "markdown",
   "metadata": {
    "collapsed": true
   },
   "source": [
    "## Hacker News Ask/Show Posts Analysis\n",
    "\n",
    "In this project we examine the differences between ask and show posts on the website \"Hacker News\". In ask posts, users will pose specific quesitons to the Hacker News community, while in show posts, users will show the community a project, product, or just something interesting. This project will examine specifically which type of post receives more comments on average, and if posts created at a certain time receive more comments on average."
   ]
  },
  {
   "cell_type": "code",
   "execution_count": 2,
   "metadata": {},
   "outputs": [
    {
     "name": "stdout",
     "output_type": "stream",
     "text": [
      "[['id', 'title', 'url', 'num_points', 'num_comments', 'author', 'created_at'], ['12224879', 'Interactive Dynamic Video', 'http://www.interactivedynamicvideo.com/', '386', '52', 'ne0phyte', '8/4/2016 11:52'], ['10975351', 'How to Use Open Source and Shut the Fuck Up at the Same Time', 'http://hueniverse.com/2016/01/26/how-to-use-open-source-and-shut-the-fuck-up-at-the-same-time/', '39', '10', 'josep2', '1/26/2016 19:30'], ['11964716', \"Florida DJs May Face Felony for April Fools' Water Joke\", 'http://www.thewire.com/entertainment/2013/04/florida-djs-april-fools-water-joke/63798/', '2', '1', 'vezycash', '6/23/2016 22:20'], ['11919867', 'Technology ventures: From Idea to Enterprise', 'https://www.amazon.com/Technology-Ventures-Enterprise-Thomas-Byers/dp/0073523429', '3', '1', 'hswarna', '6/17/2016 0:01']]\n"
     ]
    }
   ],
   "source": [
    "# opereading hacker_news.csv\n",
    "\n",
    "from csv import reader\n",
    "opened_file=open(\"hacker_news.csv\")\n",
    "read_file=reader(opened_file)\n",
    "hn=list(read_file)\n",
    "\n",
    "print(hn[0:5])"
   ]
  },
  {
   "cell_type": "code",
   "execution_count": 2,
   "metadata": {},
   "outputs": [
    {
     "name": "stdout",
     "output_type": "stream",
     "text": [
      "['id', 'title', 'url', 'num_points', 'num_comments', 'author', 'created_at']\n",
      "[['12224879', 'Interactive Dynamic Video', 'http://www.interactivedynamicvideo.com/', '386', '52', 'ne0phyte', '8/4/2016 11:52'], ['10975351', 'How to Use Open Source and Shut the Fuck Up at the Same Time', 'http://hueniverse.com/2016/01/26/how-to-use-open-source-and-shut-the-fuck-up-at-the-same-time/', '39', '10', 'josep2', '1/26/2016 19:30'], ['11964716', \"Florida DJs May Face Felony for April Fools' Water Joke\", 'http://www.thewire.com/entertainment/2013/04/florida-djs-april-fools-water-joke/63798/', '2', '1', 'vezycash', '6/23/2016 22:20'], ['11919867', 'Technology ventures: From Idea to Enterprise', 'https://www.amazon.com/Technology-Ventures-Enterprise-Thomas-Byers/dp/0073523429', '3', '1', 'hswarna', '6/17/2016 0:01'], ['10301696', 'Note by Note: The Making of Steinway L1037 (2007)', 'http://www.nytimes.com/2007/11/07/movies/07stein.html?_r=0', '8', '2', 'walterbell', '9/30/2015 4:12']]\n"
     ]
    }
   ],
   "source": [
    "# extracting headers (code removed to prevent accidental deletion)\n",
    "\n",
    "headers=hn[0]\n",
    "hn=hn[1:]\n",
    "print(headers)\n",
    "print(hn[0:5])"
   ]
  },
  {
   "cell_type": "code",
   "execution_count": 3,
   "metadata": {},
   "outputs": [
    {
     "name": "stdout",
     "output_type": "stream",
     "text": [
      "No. ask posts: 1744\n",
      "No. show posts: 1162\n",
      "No. other posts: 17194\n"
     ]
    }
   ],
   "source": [
    "# categorizing posts into ask, show, and other posts\n",
    "\n",
    "ask_posts=[]\n",
    "show_posts=[]\n",
    "other_posts=[]\n",
    "\n",
    "for row in hn:\n",
    "    title=row[1]\n",
    "    if (title.lower()).startswith(\"ask hn\"):\n",
    "        ask_posts.append(row)\n",
    "    elif (title.lower()).startswith(\"show hn\"):\n",
    "        show_posts.append(row)\n",
    "    else:\n",
    "        other_posts.append(row)\n",
    "\n",
    "print(\"No. ask posts:\",len(ask_posts))\n",
    "print(\"No. show posts:\",len(show_posts))\n",
    "print(\"No. other posts:\",len(other_posts))"
   ]
  },
  {
   "cell_type": "code",
   "execution_count": 4,
   "metadata": {},
   "outputs": [
    {
     "name": "stdout",
     "output_type": "stream",
     "text": [
      "Avg. no. comments on ask posts: 14.038417431192661\n",
      "Avg. no. comments on show posts: 10.31669535283993\n"
     ]
    }
   ],
   "source": [
    "# calculating avg. no. comments on ask posts\n",
    "\n",
    "total_ask_comments=0\n",
    "no_ask_posts=len(ask_posts)\n",
    "\n",
    "for row in ask_posts:\n",
    "    ask_comments=int(row[4])\n",
    "    total_ask_comments+=ask_comments\n",
    "\n",
    "avg_ask_comments=total_ask_comments/no_ask_posts\n",
    "print(\"Avg. no. comments on ask posts:\",avg_ask_comments)\n",
    "\n",
    "# calculating avg. no. comments on show posts\n",
    "\n",
    "total_show_comments=0\n",
    "no_show_posts=len(show_posts)\n",
    "\n",
    "for row in show_posts:\n",
    "    show_comments=int(row[4])\n",
    "    total_show_comments+=show_comments\n",
    "\n",
    "avg_show_comments=total_show_comments/no_show_posts\n",
    "print(\"Avg. no. comments on show posts:\",avg_show_comments)"
   ]
  },
  {
   "cell_type": "markdown",
   "metadata": {},
   "source": [
    "We can see that ask posts get ~36% more comments than show posts. Ask posts are probably more inviting for discussion and debate, which naturally creates more comments than show posts, which are more purposed towards appreciation (or the opposite).\n",
    "\n",
    "Now we will dig deeper into ask posts and analyze volume of ask posts by time of day posted."
   ]
  },
  {
   "cell_type": "code",
   "execution_count": 5,
   "metadata": {},
   "outputs": [
    {
     "name": "stdout",
     "output_type": "stream",
     "text": [
      "{9: 45, 13: 85, 10: 59, 14: 107, 16: 108, 23: 68, 12: 73, 17: 100, 15: 116, 21: 109, 20: 80, 2: 58, 18: 109, 3: 54, 5: 46, 19: 110, 1: 60, 22: 71, 8: 48, 4: 47, 0: 55, 6: 44, 7: 34, 11: 58}\n",
      "{9: 251, 13: 1253, 10: 793, 14: 1416, 16: 1814, 23: 543, 12: 687, 17: 1146, 15: 4477, 21: 1745, 20: 1722, 2: 1381, 18: 1439, 3: 421, 5: 464, 19: 1188, 1: 683, 22: 479, 8: 492, 4: 337, 0: 447, 6: 397, 7: 267, 11: 641}\n"
     ]
    }
   ],
   "source": [
    "# calculating the amount of posts made at each hour of the day and the no. of comments made at each hour of the day\n",
    "\n",
    "import datetime as dt\n",
    "\n",
    "result_list=[]\n",
    "\n",
    "for row in ask_posts:\n",
    "    result_list.append([row[6],int(row[4])])\n",
    "    \n",
    "counts_by_hour={}\n",
    "comments_by_hour={}\n",
    "\n",
    "for row in result_list:\n",
    "    created_at=dt.datetime.strptime(row[0],\"%m/%d/%Y %H:%M\")\n",
    "    created_at_hour=created_at.hour\n",
    "    if created_at_hour not in counts_by_hour:\n",
    "        counts_by_hour[created_at_hour]=1\n",
    "        comments_by_hour[created_at_hour]=row[1]\n",
    "    else:\n",
    "        counts_by_hour[created_at_hour]+=1\n",
    "        comments_by_hour[created_at_hour]+=row[1]\n",
    "        \n",
    "print(counts_by_hour)\n",
    "print(comments_by_hour)"
   ]
  },
  {
   "cell_type": "code",
   "execution_count": 8,
   "metadata": {},
   "outputs": [
    {
     "name": "stdout",
     "output_type": "stream",
     "text": [
      "[[9, 5.5777777777777775], [13, 14.741176470588234], [10, 13.440677966101696], [14, 13.233644859813085], [16, 16.796296296296298], [23, 7.985294117647059], [12, 9.41095890410959], [17, 11.46], [15, 38.5948275862069], [21, 16.009174311926607], [20, 21.525], [2, 23.810344827586206], [18, 13.20183486238532], [3, 7.796296296296297], [5, 10.08695652173913], [19, 10.8], [1, 11.383333333333333], [22, 6.746478873239437], [8, 10.25], [4, 7.170212765957447], [0, 8.127272727272727], [6, 9.022727272727273], [7, 7.852941176470588], [11, 11.051724137931034]]\n"
     ]
    }
   ],
   "source": [
    "# calculating average posts per post by hour\n",
    "\n",
    "avg_by_hour=[]\n",
    "\n",
    "for row in counts_by_hour:\n",
    "    post_hour_avg=comments_by_hour[row]/counts_by_hour[row]\n",
    "    avg_by_hour.append([row,post_hour_avg])\n",
    "    \n",
    "print(avg_by_hour)"
   ]
  },
  {
   "cell_type": "code",
   "execution_count": 30,
   "metadata": {},
   "outputs": [
    {
     "name": "stdout",
     "output_type": "stream",
     "text": [
      "[[38.5948275862069, 15], [23.810344827586206, 2], [21.525, 20], [16.796296296296298, 16], [16.009174311926607, 21], [14.741176470588234, 13], [13.440677966101696, 10], [13.233644859813085, 14], [13.20183486238532, 18], [11.46, 17], [11.383333333333333, 1], [11.051724137931034, 11], [10.8, 19], [10.25, 8], [10.08695652173913, 5], [9.41095890410959, 12], [9.022727272727273, 6], [8.127272727272727, 0], [7.985294117647059, 23], [7.852941176470588, 7], [7.796296296296297, 3], [7.170212765957447, 4], [6.746478873239437, 22], [5.5777777777777775, 9]]\n",
      "\n",
      " Top 5 Hours for Ask Posts Comments:\n",
      "15:00: 38.59 average comments per post\n",
      "02:00: 23.81 average comments per post\n",
      "20:00: 21.52 average comments per post\n",
      "16:00: 16.80 average comments per post\n",
      "21:00: 16.01 average comments per post\n"
     ]
    }
   ],
   "source": [
    "# printing top 5 most actively commented hours in the day\n",
    "\n",
    "swap_avg_by_hour=[]\n",
    "\n",
    "for row in avg_by_hour:\n",
    "    swap_avg_by_hour.append([row[1],row[0]])\n",
    "\n",
    "sorted_swap=sorted(swap_avg_by_hour,reverse=True)\n",
    "print(sorted_swap)\n",
    "\n",
    "print(\"\\n\",\"Top 5 Hours for Ask Posts Comments:\")\n",
    "\n",
    "for row in sorted_swap[0:5]:\n",
    "    hour_template=dt.datetime.strptime(str(row[1]),\"%H\")\n",
    "    hour_template=hour_template.strftime(\"%H:%M\")\n",
    "    template=\"{}: {:.2f} average comments per post\"\n",
    "    print(template.format(hour_template,row[0]))"
   ]
  },
  {
   "cell_type": "markdown",
   "metadata": {},
   "source": [
    "From our analysis, we can see that the times with most engagement on posts, (i.e. most comments per posts) are in the afternoon and the evening, with early morning posts doing quite poorly. It is worth noting that these times are in EST."
   ]
  }
 ],
 "metadata": {
  "kernelspec": {
   "display_name": "Python 3 (ipykernel)",
   "language": "python",
   "name": "python3"
  },
  "language_info": {
   "codemirror_mode": {
    "name": "ipython",
    "version": 3
   },
   "file_extension": ".py",
   "mimetype": "text/x-python",
   "name": "python",
   "nbconvert_exporter": "python",
   "pygments_lexer": "ipython3",
   "version": "3.9.7"
  }
 },
 "nbformat": 4,
 "nbformat_minor": 2
}
