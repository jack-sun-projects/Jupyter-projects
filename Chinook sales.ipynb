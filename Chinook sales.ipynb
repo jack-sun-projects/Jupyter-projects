{
 "cells": [
  {
   "cell_type": "code",
   "execution_count": 1,
   "metadata": {},
   "outputs": [],
   "source": [
    "%%capture\n",
    "%load_ext sql\n",
    "%sql sqlite:///chinook.db"
   ]
  },
  {
   "cell_type": "markdown",
   "metadata": {},
   "source": [
    "### 1. Introduction\n",
    "\n",
    "The aim of this analysis is to determine which albums from a new record label deal should be added to the Chinook store. The four options are all different genres of music and come from different artists.\n",
    "\n",
    "A schema diagram is shown below for reference:"
   ]
  },
  {
   "cell_type": "code",
   "execution_count": 31,
   "metadata": {},
   "outputs": [
    {
     "name": "stdout",
     "output_type": "stream",
     "text": [
      " * sqlite:///chinook.db\n",
      "Done.\n"
     ]
    },
    {
     "data": {
      "text/html": [
       "<table>\n",
       "    <thead>\n",
       "        <tr>\n",
       "            <th>type</th>\n",
       "            <th>name</th>\n",
       "        </tr>\n",
       "    </thead>\n",
       "    <tbody>\n",
       "        <tr>\n",
       "            <td>table</td>\n",
       "            <td>album</td>\n",
       "        </tr>\n",
       "        <tr>\n",
       "            <td>table</td>\n",
       "            <td>artist</td>\n",
       "        </tr>\n",
       "        <tr>\n",
       "            <td>table</td>\n",
       "            <td>customer</td>\n",
       "        </tr>\n",
       "        <tr>\n",
       "            <td>table</td>\n",
       "            <td>employee</td>\n",
       "        </tr>\n",
       "        <tr>\n",
       "            <td>table</td>\n",
       "            <td>genre</td>\n",
       "        </tr>\n",
       "        <tr>\n",
       "            <td>table</td>\n",
       "            <td>invoice</td>\n",
       "        </tr>\n",
       "        <tr>\n",
       "            <td>table</td>\n",
       "            <td>invoice_line</td>\n",
       "        </tr>\n",
       "        <tr>\n",
       "            <td>table</td>\n",
       "            <td>media_type</td>\n",
       "        </tr>\n",
       "        <tr>\n",
       "            <td>table</td>\n",
       "            <td>playlist</td>\n",
       "        </tr>\n",
       "        <tr>\n",
       "            <td>table</td>\n",
       "            <td>playlist_track</td>\n",
       "        </tr>\n",
       "        <tr>\n",
       "            <td>table</td>\n",
       "            <td>track</td>\n",
       "        </tr>\n",
       "    </tbody>\n",
       "</table>"
      ],
      "text/plain": [
       "[('table', 'album'),\n",
       " ('table', 'artist'),\n",
       " ('table', 'customer'),\n",
       " ('table', 'employee'),\n",
       " ('table', 'genre'),\n",
       " ('table', 'invoice'),\n",
       " ('table', 'invoice_line'),\n",
       " ('table', 'media_type'),\n",
       " ('table', 'playlist'),\n",
       " ('table', 'playlist_track'),\n",
       " ('table', 'track')]"
      ]
     },
     "execution_count": 31,
     "metadata": {},
     "output_type": "execute_result"
    }
   ],
   "source": [
    "%%sql\n",
    "\n",
    "SELECT type,name\n",
    "FROM sqlite_master\n",
    "WHERE type IN (\"table\",\"view\")"
   ]
  },
  {
   "cell_type": "markdown",
   "metadata": {},
   "source": [
    "### 2. US sales by genre\n",
    "\n",
    "Since all the album choices are of different genres, it will be the main differentiating factor to consider. Thus, we should determine which genres are the most popular and sell the most. Since Chinook is primarily concerned with the US market, the data will be filtered for US sales only."
   ]
  },
  {
   "cell_type": "code",
   "execution_count": 8,
   "metadata": {},
   "outputs": [
    {
     "name": "stdout",
     "output_type": "stream",
     "text": [
      " * sqlite:///chinook.db\n",
      "Done.\n"
     ]
    },
    {
     "data": {
      "text/html": [
       "<table>\n",
       "    <thead>\n",
       "        <tr>\n",
       "            <th>genre</th>\n",
       "            <th>sales</th>\n",
       "            <th>percentage_sales</th>\n",
       "        </tr>\n",
       "    </thead>\n",
       "    <tbody>\n",
       "        <tr>\n",
       "            <td>Rock</td>\n",
       "            <td>561</td>\n",
       "            <td>0.534</td>\n",
       "        </tr>\n",
       "        <tr>\n",
       "            <td>Alternative &amp; Punk</td>\n",
       "            <td>130</td>\n",
       "            <td>0.124</td>\n",
       "        </tr>\n",
       "        <tr>\n",
       "            <td>Metal</td>\n",
       "            <td>124</td>\n",
       "            <td>0.118</td>\n",
       "        </tr>\n",
       "        <tr>\n",
       "            <td>R&amp;B/Soul</td>\n",
       "            <td>53</td>\n",
       "            <td>0.05</td>\n",
       "        </tr>\n",
       "        <tr>\n",
       "            <td>Blues</td>\n",
       "            <td>36</td>\n",
       "            <td>0.034</td>\n",
       "        </tr>\n",
       "        <tr>\n",
       "            <td>Alternative</td>\n",
       "            <td>35</td>\n",
       "            <td>0.033</td>\n",
       "        </tr>\n",
       "        <tr>\n",
       "            <td>Pop</td>\n",
       "            <td>22</td>\n",
       "            <td>0.021</td>\n",
       "        </tr>\n",
       "        <tr>\n",
       "            <td>Latin</td>\n",
       "            <td>22</td>\n",
       "            <td>0.021</td>\n",
       "        </tr>\n",
       "        <tr>\n",
       "            <td>Hip Hop/Rap</td>\n",
       "            <td>20</td>\n",
       "            <td>0.019</td>\n",
       "        </tr>\n",
       "        <tr>\n",
       "            <td>Jazz</td>\n",
       "            <td>14</td>\n",
       "            <td>0.013</td>\n",
       "        </tr>\n",
       "        <tr>\n",
       "            <td>Easy Listening</td>\n",
       "            <td>13</td>\n",
       "            <td>0.012</td>\n",
       "        </tr>\n",
       "        <tr>\n",
       "            <td>Reggae</td>\n",
       "            <td>6</td>\n",
       "            <td>0.006</td>\n",
       "        </tr>\n",
       "        <tr>\n",
       "            <td>Electronica/Dance</td>\n",
       "            <td>5</td>\n",
       "            <td>0.005</td>\n",
       "        </tr>\n",
       "        <tr>\n",
       "            <td>Classical</td>\n",
       "            <td>4</td>\n",
       "            <td>0.004</td>\n",
       "        </tr>\n",
       "        <tr>\n",
       "            <td>Heavy Metal</td>\n",
       "            <td>3</td>\n",
       "            <td>0.003</td>\n",
       "        </tr>\n",
       "        <tr>\n",
       "            <td>Soundtrack</td>\n",
       "            <td>2</td>\n",
       "            <td>0.002</td>\n",
       "        </tr>\n",
       "        <tr>\n",
       "            <td>TV Shows</td>\n",
       "            <td>1</td>\n",
       "            <td>0.001</td>\n",
       "        </tr>\n",
       "    </tbody>\n",
       "</table>"
      ],
      "text/plain": [
       "[('Rock', 561, 0.534),\n",
       " ('Alternative & Punk', 130, 0.124),\n",
       " ('Metal', 124, 0.118),\n",
       " ('R&B/Soul', 53, 0.05),\n",
       " ('Blues', 36, 0.034),\n",
       " ('Alternative', 35, 0.033),\n",
       " ('Pop', 22, 0.021),\n",
       " ('Latin', 22, 0.021),\n",
       " ('Hip Hop/Rap', 20, 0.019),\n",
       " ('Jazz', 14, 0.013),\n",
       " ('Easy Listening', 13, 0.012),\n",
       " ('Reggae', 6, 0.006),\n",
       " ('Electronica/Dance', 5, 0.005),\n",
       " ('Classical', 4, 0.004),\n",
       " ('Heavy Metal', 3, 0.003),\n",
       " ('Soundtrack', 2, 0.002),\n",
       " ('TV Shows', 1, 0.001)]"
      ]
     },
     "execution_count": 8,
     "metadata": {},
     "output_type": "execute_result"
    }
   ],
   "source": [
    "%%sql\n",
    "\n",
    "SELECT g.name AS genre,\n",
    "COUNT(*) AS sales,\n",
    "ROUND(CAST(COUNT(*) AS float)/\n",
    "(SELECT COUNT(*) FROM invoice AS i\n",
    "LEFT JOIN invoice_line AS il ON i.invoice_id=il.invoice_id\n",
    "WHERE billing_country=\"USA\"),3) AS percentage_sales\n",
    "FROM invoice AS i\n",
    "\n",
    "LEFT JOIN invoice_line AS il ON i.invoice_id=il.invoice_id\n",
    "LEFT JOIN track AS t ON il.track_id=t.track_id\n",
    "LEFT JOIN genre AS g ON t.genre_id=g.genre_id\n",
    "\n",
    "WHERE i.billing_country=\"USA\"\n",
    "GROUP BY g.name\n",
    "ORDER BY sales DESC"
   ]
  },
  {
   "cell_type": "markdown",
   "metadata": {},
   "source": [
    "We can see that the \"Rock\" genre is the most popular and accounts for over half of total sales in the US, with a sharp dropoff for the next most popular genres (\"Alternative & Punk\", \"Metal\", etc.)"
   ]
  },
  {
   "cell_type": "markdown",
   "metadata": {},
   "source": [
    "### 3. Sales performance by agent\n",
    "\n",
    "Another potential factor to consider is sales performance by support agent."
   ]
  },
  {
   "cell_type": "code",
   "execution_count": 21,
   "metadata": {
    "scrolled": true
   },
   "outputs": [
    {
     "name": "stdout",
     "output_type": "stream",
     "text": [
      " * sqlite:///chinook.db\n",
      "Done.\n"
     ]
    },
    {
     "data": {
      "text/html": [
       "<table>\n",
       "    <thead>\n",
       "        <tr>\n",
       "            <th>name</th>\n",
       "            <th>hire_date</th>\n",
       "            <th>sales</th>\n",
       "        </tr>\n",
       "    </thead>\n",
       "    <tbody>\n",
       "        <tr>\n",
       "            <td>Peacock, Jane</td>\n",
       "            <td>2017-04-01 00:00:00</td>\n",
       "            <td>1731</td>\n",
       "        </tr>\n",
       "        <tr>\n",
       "            <td>Park, Margaret</td>\n",
       "            <td>2017-05-03 00:00:00</td>\n",
       "            <td>1584</td>\n",
       "        </tr>\n",
       "        <tr>\n",
       "            <td>Johnson, Steve</td>\n",
       "            <td>2017-10-17 00:00:00</td>\n",
       "            <td>1393</td>\n",
       "        </tr>\n",
       "    </tbody>\n",
       "</table>"
      ],
      "text/plain": [
       "[('Peacock, Jane', '2017-04-01 00:00:00', 1731),\n",
       " ('Park, Margaret', '2017-05-03 00:00:00', 1584),\n",
       " ('Johnson, Steve', '2017-10-17 00:00:00', 1393)]"
      ]
     },
     "execution_count": 21,
     "metadata": {},
     "output_type": "execute_result"
    }
   ],
   "source": [
    "%%sql\n",
    "\n",
    "SELECT e.last_name || \", \" || e.first_name AS name,\n",
    "e.hire_date AS hire_date,\n",
    "CAST(SUM(i.total) AS int) AS sales\n",
    "FROM invoice AS i\n",
    "\n",
    "LEFT JOIN customer AS c ON i.customer_id=c.customer_id\n",
    "LEFT JOIN employee AS e ON c.support_rep_id=e.employee_id\n",
    "\n",
    "GROUP BY c.support_rep_id"
   ]
  },
  {
   "cell_type": "markdown",
   "metadata": {},
   "source": [
    "Here we can see that Jane has made the most sales and Steve the least, although this corresponds to their respective tenures at Chinook, so performance is roughly equal among each agent and thus not a differentiating factor. To confirm this, we could consider sales per month of tenure rather than raw sales."
   ]
  },
  {
   "cell_type": "markdown",
   "metadata": {},
   "source": [
    "### 4. Sales by country\n",
    "\n",
    "Another important factor to consider if there are any opportunities in other markets, so we pull the total number of customers, total sales, average sales per customer, and average order size for each country."
   ]
  },
  {
   "cell_type": "code",
   "execution_count": 29,
   "metadata": {
    "scrolled": true
   },
   "outputs": [
    {
     "name": "stdout",
     "output_type": "stream",
     "text": [
      " * sqlite:///chinook.db\n",
      "Done.\n"
     ]
    },
    {
     "data": {
      "text/html": [
       "<table>\n",
       "    <thead>\n",
       "        <tr>\n",
       "            <th>country</th>\n",
       "            <th>total_customers</th>\n",
       "            <th>total_sales</th>\n",
       "            <th>avg_sales</th>\n",
       "            <th>avg_order</th>\n",
       "        </tr>\n",
       "    </thead>\n",
       "    <tbody>\n",
       "        <tr>\n",
       "            <td>USA</td>\n",
       "            <td>13</td>\n",
       "            <td>1040</td>\n",
       "            <td>80</td>\n",
       "            <td>7.9</td>\n",
       "        </tr>\n",
       "        <tr>\n",
       "            <td>Canada</td>\n",
       "            <td>8</td>\n",
       "            <td>535</td>\n",
       "            <td>66</td>\n",
       "            <td>7.0</td>\n",
       "        </tr>\n",
       "        <tr>\n",
       "            <td>Brazil</td>\n",
       "            <td>5</td>\n",
       "            <td>427</td>\n",
       "            <td>85</td>\n",
       "            <td>7.0</td>\n",
       "        </tr>\n",
       "        <tr>\n",
       "            <td>France</td>\n",
       "            <td>5</td>\n",
       "            <td>389</td>\n",
       "            <td>77</td>\n",
       "            <td>7.8</td>\n",
       "        </tr>\n",
       "        <tr>\n",
       "            <td>Germany</td>\n",
       "            <td>4</td>\n",
       "            <td>334</td>\n",
       "            <td>83</td>\n",
       "            <td>8.2</td>\n",
       "        </tr>\n",
       "        <tr>\n",
       "            <td>United Kingdom</td>\n",
       "            <td>3</td>\n",
       "            <td>245</td>\n",
       "            <td>81</td>\n",
       "            <td>8.8</td>\n",
       "        </tr>\n",
       "        <tr>\n",
       "            <td>Czech Republic</td>\n",
       "            <td>2</td>\n",
       "            <td>273</td>\n",
       "            <td>136</td>\n",
       "            <td>9.1</td>\n",
       "        </tr>\n",
       "        <tr>\n",
       "            <td>India</td>\n",
       "            <td>2</td>\n",
       "            <td>183</td>\n",
       "            <td>91</td>\n",
       "            <td>8.7</td>\n",
       "        </tr>\n",
       "        <tr>\n",
       "            <td>Portugal</td>\n",
       "            <td>2</td>\n",
       "            <td>185</td>\n",
       "            <td>92</td>\n",
       "            <td>6.4</td>\n",
       "        </tr>\n",
       "        <tr>\n",
       "            <td>Other</td>\n",
       "            <td>15</td>\n",
       "            <td>1094</td>\n",
       "            <td>72</td>\n",
       "            <td>7.4</td>\n",
       "        </tr>\n",
       "    </tbody>\n",
       "</table>"
      ],
      "text/plain": [
       "[('USA', 13, 1040, 80, 7.9),\n",
       " ('Canada', 8, 535, 66, 7.0),\n",
       " ('Brazil', 5, 427, 85, 7.0),\n",
       " ('France', 5, 389, 77, 7.8),\n",
       " ('Germany', 4, 334, 83, 8.2),\n",
       " ('United Kingdom', 3, 245, 81, 8.8),\n",
       " ('Czech Republic', 2, 273, 136, 9.1),\n",
       " ('India', 2, 183, 91, 8.7),\n",
       " ('Portugal', 2, 185, 92, 6.4),\n",
       " ('Other', 15, 1094, 72, 7.4)]"
      ]
     },
     "execution_count": 29,
     "metadata": {},
     "output_type": "execute_result"
    }
   ],
   "source": [
    "%%sql\n",
    "\n",
    "SELECT\n",
    "country_2 AS country,\n",
    "COUNT(DISTINCT customer_id) AS total_customers,\n",
    "CAST(SUM(total) AS int) AS total_sales,\n",
    "CAST(SUM(total)/COUNT(DISTINCT customer_id) AS int) AS avg_sales,\n",
    "ROUND(SUM(total)/COUNT(invoice_id),1) AS avg_order\n",
    "FROM\n",
    "\n",
    "(SELECT\n",
    "CASE \n",
    "    WHEN (SELECT COUNT(*) FROM customer WHERE country=c.country)=1 THEN \"Other\"\n",
    "    ELSE c.country\n",
    "    END AS country_2,\n",
    "c.customer_id,\n",
    "i.total,\n",
    "i.invoice_id,\n",
    "CASE\n",
    "    WHEN (SELECT COUNT(*) FROM customer WHERE country=c.country)=1 THEN 1\n",
    "    ELSE 0\n",
    "    END AS other_sort\n",
    "\n",
    "FROM customer AS c\n",
    "\n",
    "LEFT JOIN invoice AS i ON c.customer_id=i.customer_id)\n",
    "\n",
    "GROUP BY 1\n",
    "ORDER BY other_sort ASC, total_customers DESC"
   ]
  },
  {
   "cell_type": "markdown",
   "metadata": {},
   "source": [
    "Based on our analysis above, there could be opportunity in the Czech Republic due to the higher average sales per customer. \n",
    "\n",
    "Some ways to improve analysis:\n",
    "* Increase sample size\n",
    "* Benchmark total customers to population size - smaller markets that have high average sales per customer or average order size can appear to be better opportunities than they are if they the market cannot support additional sales."
   ]
  },
  {
   "cell_type": "markdown",
   "metadata": {},
   "source": [
    "### 5. Albums versus individual tracks\n",
    "\n",
    "Currently the Chinook store allows customers to make purchases in one of two ways:\n",
    "* Purchase a whole album\n",
    "* Purchase collection of one or more individual tracks\n",
    "\n",
    "Management is considering purchasing only the most popular tracks from an album rather than purchasing every track from an album. Thus, we need to determine the proportion of purchases that are individual tracks versus whole albums."
   ]
  },
  {
   "cell_type": "code",
   "execution_count": 30,
   "metadata": {
    "scrolled": true
   },
   "outputs": [
    {
     "name": "stdout",
     "output_type": "stream",
     "text": [
      " * sqlite:///chinook.db\n",
      "Done.\n"
     ]
    },
    {
     "data": {
      "text/html": [
       "<table>\n",
       "    <thead>\n",
       "        <tr>\n",
       "            <th>album_purchased</th>\n",
       "            <th>no_invoices</th>\n",
       "            <th>percentage_invoices</th>\n",
       "        </tr>\n",
       "    </thead>\n",
       "    <tbody>\n",
       "        <tr>\n",
       "            <td>no</td>\n",
       "            <td>500</td>\n",
       "            <td>0.814</td>\n",
       "        </tr>\n",
       "        <tr>\n",
       "            <td>yes</td>\n",
       "            <td>114</td>\n",
       "            <td>0.186</td>\n",
       "        </tr>\n",
       "    </tbody>\n",
       "</table>"
      ],
      "text/plain": [
       "[('no', 500, 0.814), ('yes', 114, 0.186)]"
      ]
     },
     "execution_count": 30,
     "metadata": {},
     "output_type": "execute_result"
    }
   ],
   "source": [
    "%%sql\n",
    "\n",
    "WITH invoice_final AS \n",
    "(SELECT il.invoice_id AS invoice_id,\n",
    "MIN(il.track_id) AS min_track_id\n",
    "FROM invoice_line AS il\n",
    "GROUP BY 1)\n",
    "\n",
    "SELECT album_purchased,\n",
    "COUNT(invoice_id) AS no_invoices,\n",
    "ROUND(CAST(COUNT(invoice_id) AS float)/\n",
    "(SELECT COUNT(*) FROM invoice),3) AS percentage_invoices\n",
    "\n",
    "FROM\n",
    "(SELECT if.*,\n",
    "CASE\n",
    "    WHEN \n",
    "        (SELECT track_id FROM invoice_line\n",
    "        WHERE invoice_id=if.invoice_id\n",
    "        EXCEPT\n",
    "        SELECT track_id FROM track\n",
    "        WHERE album_id=\n",
    "        (SELECT album_id FROM track WHERE track_id=if.min_track_id)) \n",
    "        IS NULL\n",
    "    AND\n",
    "        (SELECT track_id FROM track\n",
    "        WHERE album_id=\n",
    "        (SELECT album_id FROM track WHERE track_id=if.min_track_id)\n",
    "        EXCEPT\n",
    "        SELECT track_id FROM invoice_line\n",
    "        WHERE invoice_id=if.invoice_id)\n",
    "        IS NULL\n",
    "    THEN \"yes\"\n",
    "    ELSE \"no\"\n",
    "    END AS album_purchased\n",
    "\n",
    "FROM invoice_final AS if)\n",
    "\n",
    "GROUP BY 1;"
   ]
  },
  {
   "cell_type": "markdown",
   "metadata": {},
   "source": [
    "From our analysis, we can see that a decent portion (18.6%) of purchases are of whole albums, so only purchasing the most popular albums could result in a loss of up to that proportion of revenue."
   ]
  }
 ],
 "metadata": {
  "kernelspec": {
   "display_name": "Python 3 (ipykernel)",
   "language": "python",
   "name": "python3"
  },
  "language_info": {
   "codemirror_mode": {
    "name": "ipython",
    "version": 3
   },
   "file_extension": ".py",
   "mimetype": "text/x-python",
   "name": "python",
   "nbconvert_exporter": "python",
   "pygments_lexer": "ipython3",
   "version": "3.9.7"
  }
 },
 "nbformat": 4,
 "nbformat_minor": 2
}
